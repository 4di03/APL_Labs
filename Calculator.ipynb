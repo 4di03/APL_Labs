{
 "cells": [
  {
   "cell_type": "code",
   "execution_count": 9,
   "id": "0fb488a5",
   "metadata": {},
   "outputs": [
    {
     "name": "stdout",
     "output_type": "stream",
     "text": [
      "The autoreload extension is already loaded. To reload it, use:\n",
      "  %reload_ext autoreload\n"
     ]
    },
    {
     "data": {
      "text/plain": [
       "1.0+/-0.1"
      ]
     },
     "execution_count": 9,
     "metadata": {},
     "output_type": "execute_result"
    }
   ],
   "source": [
    "from uncertainties import ufloat # do MATH with this for error propagation\n",
    "from uncertainties.umath import log \n",
    "%load_ext autoreload\n",
    "%autoreload 2\n",
    "x = ufloat(1, 0.1)\n",
    "y = ufloat(2, 0.2)\n",
    "\n",
    "x"
   ]
  },
  {
   "cell_type": "code",
   "execution_count": 10,
   "id": "d8fb5a2d",
   "metadata": {},
   "outputs": [
    {
     "data": {
      "text/plain": [
       "-1.0+/-0.223606797749979"
      ]
     },
     "execution_count": 10,
     "metadata": {},
     "output_type": "execute_result"
    }
   ],
   "source": [
    "x -  y"
   ]
  },
  {
   "cell_type": "code",
   "execution_count": 11,
   "id": "6af4ed90",
   "metadata": {},
   "outputs": [
    {
     "data": {
      "text/plain": [
       "0.223606797749979"
      ]
     },
     "execution_count": 11,
     "metadata": {},
     "output_type": "execute_result"
    }
   ],
   "source": [
    "(0.1**2 + 0.2**2)**0.5"
   ]
  },
  {
   "cell_type": "code",
   "execution_count": 12,
   "id": "c1fed36a",
   "metadata": {},
   "outputs": [
    {
     "data": {
      "text/plain": [
       "(2.0+/-0.28284271247461906, 0.5+/-0.07071067811865477, 4.0+/-0.894427190999916)"
      ]
     },
     "execution_count": 12,
     "metadata": {},
     "output_type": "execute_result"
    }
   ],
   "source": [
    "x*y, x / y, x* (y**2)"
   ]
  },
  {
   "cell_type": "code",
   "execution_count": 13,
   "id": "3f46dadb",
   "metadata": {},
   "outputs": [
    {
     "data": {
      "text/plain": [
       "0.894427190999916"
      ]
     },
     "execution_count": 13,
     "metadata": {},
     "output_type": "execute_result"
    }
   ],
   "source": [
    "def sqrt(x):\n",
    "    return x**0.5\n",
    "\n",
    "sqrt(0.1**2 + 0.2**2) * 4"
   ]
  },
  {
   "cell_type": "code",
   "execution_count": 14,
   "id": "301634f7",
   "metadata": {},
   "outputs": [
    {
     "data": {
      "text/plain": [
       "0.07071067811865477"
      ]
     },
     "execution_count": 14,
     "metadata": {},
     "output_type": "execute_result"
    }
   ],
   "source": [
    "sqrt(0.1**2 + 0.1**2) * 0.5"
   ]
  },
  {
   "cell_type": "code",
   "execution_count": 15,
   "id": "99a7626d",
   "metadata": {},
   "outputs": [
    {
     "data": {
      "text/plain": [
       "979.5846153846154"
      ]
     },
     "execution_count": 15,
     "metadata": {},
     "output_type": "execute_result"
    }
   ],
   "source": [
    "(640-3.27)/0.65\n"
   ]
  },
  {
   "cell_type": "code",
   "execution_count": 16,
   "id": "55171f98",
   "metadata": {},
   "outputs": [
    {
     "data": {
      "text/plain": [
       "-17.59502262443439"
      ]
     },
     "execution_count": 16,
     "metadata": {},
     "output_type": "execute_result"
    }
   ],
   "source": [
    "(1.5e16 - 3.89e19)/2.21e18\n",
    "\n"
   ]
  },
  {
   "cell_type": "code",
   "execution_count": 17,
   "id": "6e1ce306",
   "metadata": {},
   "outputs": [
    {
     "data": {
      "text/plain": [
       "-3.8885e+19"
      ]
     },
     "execution_count": 17,
     "metadata": {},
     "output_type": "execute_result"
    }
   ],
   "source": [
    "(1.5e16 - 3.89e19)"
   ]
  },
  {
   "cell_type": "code",
   "execution_count": 18,
   "id": "dc064494",
   "metadata": {},
   "outputs": [
    {
     "data": {
      "text/plain": [
       "2.9814066289409857"
      ]
     },
     "execution_count": 18,
     "metadata": {},
     "output_type": "execute_result"
    }
   ],
   "source": [
    "(1000-631.2)/123.7"
   ]
  },
  {
   "cell_type": "code",
   "execution_count": 19,
   "id": "edde1261",
   "metadata": {},
   "outputs": [
    {
     "data": {
      "text/plain": [
       "1328.0416666666667"
      ]
     },
     "execution_count": 19,
     "metadata": {},
     "output_type": "execute_result"
    }
   ],
   "source": [
    "(640-2.54)/0.48"
   ]
  },
  {
   "cell_type": "code",
   "execution_count": 20,
   "id": "cc1ea2fa",
   "metadata": {},
   "outputs": [
    {
     "data": {
      "text/plain": [
       "34.19117647058823"
      ]
     },
     "execution_count": 20,
     "metadata": {},
     "output_type": "execute_result"
    }
   ],
   "source": [
    "\n",
    "\n",
    "f = 25\n",
    "get_i = lambda f,o : 1/((1/f) - (1/o))\n",
    "\n",
    "\n",
    "get_i(f= 25, o =93)"
   ]
  },
  {
   "cell_type": "code",
   "execution_count": 21,
   "id": "bc214643",
   "metadata": {},
   "outputs": [
    {
     "data": {
      "text/plain": [
       "93.00000000000003"
      ]
     },
     "execution_count": 21,
     "metadata": {},
     "output_type": "execute_result"
    }
   ],
   "source": [
    "get_i(f = 25, o =34.19117647058823)"
   ]
  },
  {
   "cell_type": "code",
   "execution_count": 24,
   "id": "9e504750",
   "metadata": {},
   "outputs": [
    {
     "ename": "AttributeError",
     "evalue": "'dict' object has no attribute '__get__'",
     "output_type": "error",
     "traceback": [
      "\u001b[0;31m---------------------------------------------------------------------------\u001b[0m",
      "\u001b[0;31mAttributeError\u001b[0m                            Traceback (most recent call last)",
      "Cell \u001b[0;32mIn[24], line 6\u001b[0m\n\u001b[1;32m      1\u001b[0m \u001b[39m#Rando\u001b[39;00m\n\u001b[1;32m      3\u001b[0m d \u001b[39m=\u001b[39m {}\n\u001b[0;32m----> 6\u001b[0m d\u001b[39m.\u001b[39;49m\u001b[39m__get__\u001b[39;49m()\n",
      "\u001b[0;31mAttributeError\u001b[0m: 'dict' object has no attribute '__get__'"
     ]
    }
   ],
   "source": [
    "#Rando\n",
    "\n",
    "d = {}\n",
    "\n",
    "\n",
    "d.__get__()"
   ]
  },
  {
   "cell_type": "code",
   "execution_count": 26,
   "id": "20ecd7ba",
   "metadata": {},
   "outputs": [
    {
     "data": {
      "text/plain": [
       "([1, 2, 3], [1, 2, 3])"
      ]
     },
     "execution_count": 26,
     "metadata": {},
     "output_type": "execute_result"
    }
   ],
   "source": [
    "cur_wave = []\n",
    "next_wave =[1,2]\n",
    "\n",
    "cur_wave = next_wave\n",
    "next_wave.append(3)\n",
    "\n",
    "cur_wave,next_wave"
   ]
  },
  {
   "cell_type": "code",
   "execution_count": null,
   "id": "e3584ae8",
   "metadata": {},
   "outputs": [],
   "source": []
  }
 ],
 "metadata": {
  "kernelspec": {
   "display_name": "Python 3",
   "language": "python",
   "name": "python3"
  },
  "language_info": {
   "codemirror_mode": {
    "name": "ipython",
    "version": 3
   },
   "file_extension": ".py",
   "mimetype": "text/x-python",
   "name": "python",
   "nbconvert_exporter": "python",
   "pygments_lexer": "ipython3",
   "version": "3.9.13"
  },
  "vscode": {
   "interpreter": {
    "hash": "38cca0c38332a56087b24af0bc80247f4fced29cb4f7f437d91dc159adec9c4e"
   }
  }
 },
 "nbformat": 4,
 "nbformat_minor": 5
}
