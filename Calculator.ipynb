{
 "cells": [
  {
   "cell_type": "code",
   "execution_count": null,
   "id": "0fb488a5",
   "metadata": {},
   "outputs": [],
   "source": [
    "from uncertainties import ufloat # do MATH with this for error propagation\n",
    "from uncertainties.umath import log \n",
    "%load_ext autoreload\n",
    "%auotreload 2\n",
    "x = ufloat(1, 0.1)\n",
    "y = ufloat(2, 0.2)"
   ]
  },
  {
   "cell_type": "code",
   "execution_count": null,
   "id": "d8fb5a2d",
   "metadata": {},
   "outputs": [],
   "source": [
    "x-y"
   ]
  },
  {
   "cell_type": "code",
   "execution_count": null,
   "id": "6af4ed90",
   "metadata": {},
   "outputs": [],
   "source": [
    "(0.1**2 + 0.2**2)**0.5"
   ]
  },
  {
   "cell_type": "code",
   "execution_count": null,
   "id": "c1fed36a",
   "metadata": {},
   "outputs": [],
   "source": [
    "x*y, x / y, x* (y**2)"
   ]
  },
  {
   "cell_type": "code",
   "execution_count": null,
   "id": "3f46dadb",
   "metadata": {},
   "outputs": [],
   "source": [
    "def sqrt(x):\n",
    "    return x**0.5\n",
    "\n",
    "sqrt(0.1**2 + 0.2**2) * 4"
   ]
  },
  {
   "cell_type": "code",
   "execution_count": null,
   "id": "301634f7",
   "metadata": {},
   "outputs": [],
   "source": [
    "sqrt(0.1**2 + 0.1**2) * 0.5"
   ]
  },
  {
   "cell_type": "code",
   "execution_count": null,
   "id": "99a7626d",
   "metadata": {},
   "outputs": [],
   "source": [
    "(640-3.27)/0.65\n"
   ]
  },
  {
   "cell_type": "code",
   "execution_count": null,
   "id": "55171f98",
   "metadata": {},
   "outputs": [],
   "source": [
    "(1.5e16 - 3.89e19)/2.21e18\n",
    "\n"
   ]
  },
  {
   "cell_type": "code",
   "execution_count": null,
   "id": "6e1ce306",
   "metadata": {},
   "outputs": [],
   "source": [
    "(1.5e16 - 3.89e19)"
   ]
  },
  {
   "cell_type": "code",
   "execution_count": null,
   "id": "dc064494",
   "metadata": {},
   "outputs": [],
   "source": [
    "(1000-631.2)/123.7"
   ]
  },
  {
   "cell_type": "code",
   "execution_count": null,
   "id": "edde1261",
   "metadata": {},
   "outputs": [],
   "source": [
    "(640-2.54)/0.48"
   ]
  },
  {
   "cell_type": "code",
   "execution_count": null,
   "id": "cc1ea2fa",
   "metadata": {},
   "outputs": [],
   "source": []
  }
 ],
 "metadata": {
  "kernelspec": {
   "display_name": "Python 3",
   "language": "python",
   "name": "python3"
  },
  "language_info": {
   "codemirror_mode": {
    "name": "ipython",
    "version": 3
   },
   "file_extension": ".py",
   "mimetype": "text/x-python",
   "name": "python",
   "nbconvert_exporter": "python",
   "pygments_lexer": "ipython3",
   "version": "3.9.13"
  },
  "vscode": {
   "interpreter": {
    "hash": "38cca0c38332a56087b24af0bc80247f4fced29cb4f7f437d91dc159adec9c4e"
   }
  }
 },
 "nbformat": 4,
 "nbformat_minor": 5
}
