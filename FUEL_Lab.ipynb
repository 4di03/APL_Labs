{
 "cells": [
  {
   "cell_type": "code",
   "execution_count": 55,
   "metadata": {},
   "outputs": [],
   "source": [
    "from formulas import *\n",
    "from util import *\n",
    "import math\n",
    "import pandas as pd\n",
    "import numpy as np\n",
    "d_diam = get_apl_ufloat(9.5E-3)\n",
    "PM_area =  math.pi * (d_diam/2)**2\n",
    "\n",
    "HHV = 141.88e6 # J/kg\n",
    "LHV = 119.96e6 #J/kg\n",
    "\n",
    "density_H = 0.08375 #kg/m^3\n",
    "\n",
    "def avg(arr):\n",
    "    return (sum(arr))/len(arr)"
   ]
  },
  {
   "cell_type": "markdown",
   "metadata": {},
   "source": [
    "Experiment A:"
   ]
  },
  {
   "cell_type": "code",
   "execution_count": 56,
   "metadata": {},
   "outputs": [
    {
     "data": {
      "text/plain": [
       "7.08821842466197e-05+/-1.4922565104551518e-06"
      ]
     },
     "execution_count": 56,
     "metadata": {},
     "output_type": "execute_result"
    }
   ],
   "source": [
    "PM_area"
   ]
  },
  {
   "cell_type": "code",
   "execution_count": 57,
   "metadata": {},
   "outputs": [],
   "source": [
    "\n",
    "powers = pd.DataFrame(columns = [\"CELL #\", \"Power(W)\"],data=[[1,get_apl_ufloat(1.42E-03)],\n",
    "[2,get_apl_ufloat(1.68E-03)],\n",
    "[3,get_apl_ufloat(1.81E-03)],\n",
    "[4,get_apl_ufloat(1.64E-03)],\n",
    "[5,get_apl_ufloat(1.39E-03)],\n",
    "[6,get_apl_ufloat(1.78E-03)],\n",
    "[7,get_apl_ufloat(2.03E-03)],\n",
    "[8,get_apl_ufloat(1.56E-03)]])"
   ]
  },
  {
   "cell_type": "code",
   "execution_count": 58,
   "metadata": {},
   "outputs": [],
   "source": [
    "powers[\"light_Intensity\"]= powers[\"Power(W)\"]/PM_area\n",
    "powers = powers.reset_index(drop=True)"
   ]
  },
  {
   "cell_type": "code",
   "execution_count": 59,
   "metadata": {},
   "outputs": [
    {
     "data": {
      "text/html": [
       "<div>\n",
       "<style scoped>\n",
       "    .dataframe tbody tr th:only-of-type {\n",
       "        vertical-align: middle;\n",
       "    }\n",
       "\n",
       "    .dataframe tbody tr th {\n",
       "        vertical-align: top;\n",
       "    }\n",
       "\n",
       "    .dataframe thead th {\n",
       "        text-align: right;\n",
       "    }\n",
       "</style>\n",
       "<table border=\"1\" class=\"dataframe\">\n",
       "  <thead>\n",
       "    <tr style=\"text-align: right;\">\n",
       "      <th></th>\n",
       "      <th>CELL #</th>\n",
       "      <th>Power(W)</th>\n",
       "      <th>light_Intensity</th>\n",
       "    </tr>\n",
       "  </thead>\n",
       "  <tbody>\n",
       "    <tr>\n",
       "      <th>0</th>\n",
       "      <td>1</td>\n",
       "      <td>0.001420+/-0.000010</td>\n",
       "      <td>20.0+/-0.4</td>\n",
       "    </tr>\n",
       "    <tr>\n",
       "      <th>1</th>\n",
       "      <td>2</td>\n",
       "      <td>0.001680+/-0.000010</td>\n",
       "      <td>23.7+/-0.5</td>\n",
       "    </tr>\n",
       "    <tr>\n",
       "      <th>2</th>\n",
       "      <td>3</td>\n",
       "      <td>0.001810+/-0.000010</td>\n",
       "      <td>25.5+/-0.6</td>\n",
       "    </tr>\n",
       "    <tr>\n",
       "      <th>3</th>\n",
       "      <td>4</td>\n",
       "      <td>0.001640+/-0.000010</td>\n",
       "      <td>23.1+/-0.5</td>\n",
       "    </tr>\n",
       "    <tr>\n",
       "      <th>4</th>\n",
       "      <td>5</td>\n",
       "      <td>0.001390+/-0.000010</td>\n",
       "      <td>19.6+/-0.4</td>\n",
       "    </tr>\n",
       "    <tr>\n",
       "      <th>5</th>\n",
       "      <td>6</td>\n",
       "      <td>0.001780+/-0.000010</td>\n",
       "      <td>25.1+/-0.5</td>\n",
       "    </tr>\n",
       "    <tr>\n",
       "      <th>6</th>\n",
       "      <td>7</td>\n",
       "      <td>0.002030+/-0.000010</td>\n",
       "      <td>28.6+/-0.6</td>\n",
       "    </tr>\n",
       "    <tr>\n",
       "      <th>7</th>\n",
       "      <td>8</td>\n",
       "      <td>0.001560+/-0.000010</td>\n",
       "      <td>22.0+/-0.5</td>\n",
       "    </tr>\n",
       "  </tbody>\n",
       "</table>\n",
       "</div>"
      ],
      "text/plain": [
       "   CELL #             Power(W) light_Intensity\n",
       "0       1  0.001420+/-0.000010      20.0+/-0.4\n",
       "1       2  0.001680+/-0.000010      23.7+/-0.5\n",
       "2       3  0.001810+/-0.000010      25.5+/-0.6\n",
       "3       4  0.001640+/-0.000010      23.1+/-0.5\n",
       "4       5  0.001390+/-0.000010      19.6+/-0.4\n",
       "5       6  0.001780+/-0.000010      25.1+/-0.5\n",
       "6       7  0.002030+/-0.000010      28.6+/-0.6\n",
       "7       8  0.001560+/-0.000010      22.0+/-0.5"
      ]
     },
     "execution_count": 59,
     "metadata": {},
     "output_type": "execute_result"
    }
   ],
   "source": [
    "powers"
   ]
  },
  {
   "cell_type": "code",
   "execution_count": 60,
   "metadata": {},
   "outputs": [],
   "source": [
    "total_avg_light_intensity = avg(powers['light_Intensity'])"
   ]
  },
  {
   "cell_type": "code",
   "execution_count": 61,
   "metadata": {},
   "outputs": [
    {
     "data": {
      "text/plain": [
       "23.472047562915538+/-0.49665936816583584"
      ]
     },
     "execution_count": 61,
     "metadata": {},
     "output_type": "execute_result"
    }
   ],
   "source": [
    "total_avg_light_intensity"
   ]
  },
  {
   "cell_type": "code",
   "execution_count": 62,
   "metadata": {},
   "outputs": [],
   "source": [
    "pv_width = get_apl_ufloat(9.5E-2)\n",
    "pv_length = get_apl_ufloat(12.8E-2)"
   ]
  },
  {
   "cell_type": "code",
   "execution_count": 63,
   "metadata": {},
   "outputs": [],
   "source": [
    "pv_area = pv_width*pv_length"
   ]
  },
  {
   "cell_type": "code",
   "execution_count": 64,
   "metadata": {},
   "outputs": [
    {
     "data": {
      "text/plain": [
       "0.01216+/-0.00015940200751558934"
      ]
     },
     "execution_count": 64,
     "metadata": {},
     "output_type": "execute_result"
    }
   ],
   "source": [
    "pv_area"
   ]
  },
  {
   "cell_type": "code",
   "execution_count": 65,
   "metadata": {},
   "outputs": [],
   "source": [
    "avg_power = pv_area * total_avg_light_intensity"
   ]
  },
  {
   "cell_type": "code",
   "execution_count": 66,
   "metadata": {},
   "outputs": [
    {
     "data": {
      "text/plain": [
       "0.28542009836505294+/-0.007104424275257045"
      ]
     },
     "execution_count": 66,
     "metadata": {},
     "output_type": "execute_result"
    }
   ],
   "source": [
    "avg_power"
   ]
  },
  {
   "cell_type": "code",
   "execution_count": 67,
   "metadata": {},
   "outputs": [
    {
     "data": {
      "text/plain": [
       "0.13350115222532444+/-0.0033234552739163726"
      ]
     },
     "execution_count": 67,
     "metadata": {},
     "output_type": "execute_result"
    }
   ],
   "source": [
    "i_peak = get_apl_ufloat(24.36e-3)\n",
    "v_peak = get_apl_ufloat(1.5642)\n",
    "\n",
    "p_peak = i_peak * v_peak\n",
    "n_peak = p_peak /avg_power\n",
    "n_peak"
   ]
  },
  {
   "cell_type": "markdown",
   "metadata": {},
   "source": [
    "Experiment C"
   ]
  },
  {
   "cell_type": "code",
   "execution_count": 79,
   "metadata": {},
   "outputs": [],
   "source": [
    "i =get_apl_ufloat(421.9e-3)\n",
    "t = get_apl_ufloat(96.33)\n",
    "v = get_apl_ufloat(1.970)\n",
    "\n",
    "P_E = i*v\n",
    "\n",
    "volume_H = get_apl_ufloat(5e-6) # m^#\n",
    "\n",
    "m_H = volume_H*density_H\n",
    "\n",
    "n_E = (m_H * HHV)/(P_E*t)\n"
   ]
  },
  {
   "cell_type": "code",
   "execution_count": 80,
   "metadata": {},
   "outputs": [
    {
     "data": {
      "text/plain": [
       "(0.7420594293154423+/-0.14845980436073367, 5e-06+/-1e-06)"
      ]
     },
     "execution_count": 80,
     "metadata": {},
     "output_type": "execute_result"
    }
   ],
   "source": [
    "n_E,volume_H"
   ]
  },
  {
   "cell_type": "code",
   "execution_count": 70,
   "metadata": {},
   "outputs": [
    {
     "data": {
      "text/plain": [
       "0.831143+/-0.004223596808408681"
      ]
     },
     "execution_count": 70,
     "metadata": {},
     "output_type": "execute_result"
    }
   ],
   "source": [
    "P_E "
   ]
  },
  {
   "cell_type": "markdown",
   "metadata": {},
   "source": [
    "Experiment D"
   ]
  },
  {
   "cell_type": "code",
   "execution_count": 71,
   "metadata": {},
   "outputs": [
    {
     "data": {
      "text/plain": [
       "(0.5166554752081538+/-0.12916819381004668,\n",
       " 0.04843159999999999+/-9.843942299708993e-05)"
      ]
     },
     "execution_count": 71,
     "metadata": {},
     "output_type": "execute_result"
    }
   ],
   "source": [
    "def conv_efficiency_hydrogen(P, t, vol , HHV = LHV):\n",
    "    # vol in cm^3\n",
    "\n",
    "    vol = vol * 1e-6 #cm^3 to m^3\n",
    "    density_H = 0.08375 #kg/m^3\n",
    "    m_H = vol*density_H\n",
    "\n",
    "    return P*t/(m_H*HHV)\n",
    "\n",
    "P_cur = get_apl_ufloat(0.706) * get_apl_ufloat(68.6e-3)\n",
    "n_FC = conv_efficiency_hydrogen(P = P_cur, t = get_apl_ufloat((7*60) + 8.70), vol = ufloat(4,1))\n",
    "n_FC, P_cur"
   ]
  },
  {
   "cell_type": "code",
   "execution_count": 72,
   "metadata": {},
   "outputs": [
    {
     "data": {
      "text/plain": [
       "0.18116978992997662+/-0.09058489622437088"
      ]
     },
     "execution_count": 72,
     "metadata": {},
     "output_type": "execute_result"
    }
   ],
   "source": [
    "\n",
    "conv_efficiency_hydrogen(P = 0.030351, t = get_apl_ufloat((1)*60 +59.94 ), vol = ufloat(2,1))"
   ]
  },
  {
   "cell_type": "code",
   "execution_count": 73,
   "metadata": {},
   "outputs": [
    {
     "data": {
      "text/plain": [
       "0.10244795230250879+/-0.05122397617675944"
      ]
     },
     "execution_count": 73,
     "metadata": {},
     "output_type": "execute_result"
    }
   ],
   "source": [
    "conv_efficiency_hydrogen(P = 0.003248, t = get_apl_ufloat((10)*60 +33.78 ), vol = ufloat(2,1))"
   ]
  },
  {
   "cell_type": "code",
   "execution_count": 74,
   "metadata": {},
   "outputs": [
    {
     "data": {
      "text/plain": [
       "0.21024085670347822+/-0.2102408611522064"
      ]
     },
     "execution_count": 74,
     "metadata": {},
     "output_type": "execute_result"
    }
   ],
   "source": [
    "conv_efficiency_hydrogen(P = 0.0434523, t = get_apl_ufloat((0)*60 + 48.61 ), vol = ufloat(1,1))"
   ]
  },
  {
   "cell_type": "code",
   "execution_count": 75,
   "metadata": {},
   "outputs": [
    {
     "data": {
      "text/plain": [
       "0.40406546012850053+/-0.4040654616379899"
      ]
     },
     "execution_count": 75,
     "metadata": {},
     "output_type": "execute_result"
    }
   ],
   "source": [
    "conv_efficiency_hydrogen(P = 0.0350895, t = get_apl_ufloat((1)*60 + 55.69 ), vol = ufloat(1,1))"
   ]
  },
  {
   "cell_type": "code",
   "execution_count": 76,
   "metadata": {},
   "outputs": [
    {
     "data": {
      "text/plain": [
       "('19.1+/-2.0%', '9.477740838545182')"
      ]
     },
     "execution_count": 76,
     "metadata": {},
     "output_type": "execute_result"
    }
   ],
   "source": [
    "get_deviations(measured = n_peak, accepted = 0.165), n_peak"
   ]
  },
  {
   "cell_type": "code",
   "execution_count": 77,
   "metadata": {},
   "outputs": [
    {
     "data": {
      "text/plain": [
       "('10+/-18%', '0.5580967090928317')"
      ]
     },
     "execution_count": 77,
     "metadata": {},
     "output_type": "execute_result"
    }
   ],
   "source": [
    "get_deviations(measured = n_E, accepted = 0.8), n_E"
   ]
  },
  {
   "cell_type": "code",
   "execution_count": 78,
   "metadata": {},
   "outputs": [
    {
     "data": {
      "text/plain": [
       "('3+/-26%', '0.12894409000289314')"
      ]
     },
     "execution_count": 78,
     "metadata": {},
     "output_type": "execute_result"
    }
   ],
   "source": [
    "get_deviations(measured = n_FC, accepted = 0.5),n_FC"
   ]
  },
  {
   "cell_type": "code",
   "execution_count": null,
   "metadata": {},
   "outputs": [],
   "source": []
  },
  {
   "cell_type": "code",
   "execution_count": null,
   "metadata": {},
   "outputs": [],
   "source": []
  }
 ],
 "metadata": {
  "kernelspec": {
   "display_name": "base",
   "language": "python",
   "name": "python3"
  },
  "language_info": {
   "codemirror_mode": {
    "name": "ipython",
    "version": 3
   },
   "file_extension": ".py",
   "mimetype": "text/x-python",
   "name": "python",
   "nbconvert_exporter": "python",
   "pygments_lexer": "ipython3",
   "version": "3.11.3"
  },
  "orig_nbformat": 4
 },
 "nbformat": 4,
 "nbformat_minor": 2
}
