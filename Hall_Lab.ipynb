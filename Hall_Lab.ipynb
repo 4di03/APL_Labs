{
 "cells": [
  {
   "cell_type": "code",
   "execution_count": 1,
   "metadata": {},
   "outputs": [
    {
     "name": "stderr",
     "output_type": "stream",
     "text": [
      "UsageError: Line magic function `%auotreload` not found.\n"
     ]
    }
   ],
   "source": [
    "from uncertainties import ufloat # do MATH with this for error propagation\n",
    "from formulas import * # import all the functions from formulas.py\n",
    "%load_ext autoreload\n",
    "%auotreload 2"
   ]
  },
  {
   "attachments": {},
   "cell_type": "markdown",
   "metadata": {},
   "source": [
    "Part B"
   ]
  },
  {
   "cell_type": "code",
   "execution_count": 2,
   "metadata": {},
   "outputs": [
    {
     "data": {
      "text/plain": [
       "(3.269424823410697+/-0.651204538898811,\n",
       " 2.5428859737638754+/-0.4774530950071972)"
      ]
     },
     "execution_count": 2,
     "metadata": {},
     "output_type": "execute_result"
    }
   ],
   "source": [
    "\n",
    "l = ufloat(0.021, 0.001)\n",
    "w = ufloat(0.008,0.001)\n",
    "A = w * l\n",
    "l2_3 = ufloat(0.007, 0.001)\n",
    "l5_6 = ufloat(0.008, 0.001)\n",
    "i = ufloat(1.982e-3, 0.001e-3)\n",
    "v2_3 = ufloat(0.27,0.01) \n",
    "v5_6 = ufloat(0.24, 0.01)\n",
    "\n",
    "r2_3 = resistance(v2_3, i) \n",
    "r5_6 = resistance(v5_6, i) \n",
    "\n",
    "res2_3 = resistivity(R = r2_3, L = l2_3, A = A)\n",
    "res5_6 = resistivity(R = r5_6, L = l5_6, A = A)\n",
    "(res2_3, res5_6)"
   ]
  },
  {
   "cell_type": "code",
   "execution_count": 11,
   "metadata": {},
   "outputs": [
    {
     "data": {
      "text/plain": [
       "(136.22603430877902+/-5.04587680806126,\n",
       " 121.08980827447024+/-5.0457785621649185,\n",
       " 0.00016800000000000002+/-2.2472205054244236e-05)"
      ]
     },
     "execution_count": 11,
     "metadata": {},
     "output_type": "execute_result"
    }
   ],
   "source": [
    "r2_3, r5_6, A"
   ]
  },
  {
   "cell_type": "code",
   "execution_count": 4,
   "metadata": {},
   "outputs": [],
   "source": [
    "dVdb =  ufloat(0.0176,0.001)/ufloat(1, 0.001)\n",
    "dVdb\n",
    "i = ufloat(2.854e-3, 0.001e-3)\n",
    "e = 1.602e-19\n",
    "d = ufloat(26e-3, 0.01e-3)\n"
   ]
  },
  {
   "cell_type": "code",
   "execution_count": 5,
   "metadata": {},
   "outputs": [
    {
     "data": {
      "text/plain": [
       "3.893188584199821e+19+/-2.212474267678063e+18"
      ]
     },
     "execution_count": 5,
     "metadata": {},
     "output_type": "execute_result"
    }
   ],
   "source": [
    "n =i/(e*dVdb*d)\n",
    "n "
   ]
  },
  {
   "cell_type": "code",
   "execution_count": 6,
   "metadata": {},
   "outputs": [
    {
     "data": {
      "text/plain": [
       "490.41155147205114+/-101.57832103828505"
      ]
     },
     "execution_count": 6,
     "metadata": {},
     "output_type": "execute_result"
    }
   ],
   "source": [
    "u5_6 = carrier_mobility(n = n, p = res5_6) * 1e4\n",
    "u2_3 = carrier_mobility(n = n, p = res2_3) * 1e4\n",
    "\n",
    "u2_3"
   ]
  },
  {
   "cell_type": "code",
   "execution_count": 7,
   "metadata": {},
   "outputs": [
    {
     "data": {
      "text/plain": [
       "630.5291376069229+/-123.69226205368851"
      ]
     },
     "execution_count": 7,
     "metadata": {},
     "output_type": "execute_result"
    }
   ],
   "source": [
    "u5_6"
   ]
  },
  {
   "cell_type": "code",
   "execution_count": 8,
   "metadata": {},
   "outputs": [
    {
     "data": {
      "text/plain": [
       "('99.49+/-0.10%', '99.60+/-0.07%')"
      ]
     },
     "execution_count": 8,
     "metadata": {},
     "output_type": "execute_result"
    }
   ],
   "source": [
    "accepted_res = 640\n",
    "accepted_n = 1.5e16\n",
    "accepted_u = 1000\n",
    "\n",
    "pct_deviation(accepted = accepted_res, measured = res2_3), pct_deviation(accepted = accepted_res, measured =res5_6)\n",
    "\n",
    "\n"
   ]
  },
  {
   "cell_type": "markdown",
   "metadata": {},
   "source": []
  },
  {
   "cell_type": "code",
   "execution_count": 9,
   "metadata": {},
   "outputs": [
    {
     "data": {
      "text/plain": [
       "'(2.59+/-0.15)e+05%'"
      ]
     },
     "execution_count": 9,
     "metadata": {},
     "output_type": "execute_result"
    }
   ],
   "source": [
    "pct_deviation(accepted = accepted_n, measured = n)"
   ]
  },
  {
   "cell_type": "markdown",
   "metadata": {},
   "source": []
  },
  {
   "cell_type": "code",
   "execution_count": 10,
   "metadata": {},
   "outputs": [
    {
     "data": {
      "text/plain": [
       "('51+/-10%', '37+/-12%')"
      ]
     },
     "execution_count": 10,
     "metadata": {},
     "output_type": "execute_result"
    }
   ],
   "source": [
    "pct_deviation(accepted = accepted_u, measured = u2_3), pct_deviation(accepted = accepted_u, measured = u5_6)"
   ]
  },
  {
   "cell_type": "markdown",
   "metadata": {},
   "source": []
  }
 ],
 "metadata": {
  "kernelspec": {
   "display_name": "Python 3",
   "language": "python",
   "name": "python3"
  },
  "language_info": {
   "codemirror_mode": {
    "name": "ipython",
    "version": 3
   },
   "file_extension": ".py",
   "mimetype": "text/x-python",
   "name": "python",
   "nbconvert_exporter": "python",
   "pygments_lexer": "ipython3",
   "version": "3.9.13 (v3.9.13:6de2ca5339, May 17 2022, 11:37:23) \n[Clang 13.0.0 (clang-1300.0.29.30)]"
  },
  "orig_nbformat": 4,
  "vscode": {
   "interpreter": {
    "hash": "38cca0c38332a56087b24af0bc80247f4fced29cb4f7f437d91dc159adec9c4e"
   }
  }
 },
 "nbformat": 4,
 "nbformat_minor": 2
}
