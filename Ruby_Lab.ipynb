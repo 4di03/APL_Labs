{
 "cells": [
  {
   "cell_type": "code",
   "execution_count": 53,
   "metadata": {},
   "outputs": [],
   "source": [
    "#B.2.a\n",
    "from uncertainties import ufloat\n",
    "from uncertainties import unumpy as unp\n",
    "import formulas\n",
    "from util import get_apl_ufloat\n",
    "SAVE_PATH = \"data/Ruby/ruby_data_new.csv\"\n",
    "n = 1.77\n",
    "\n",
    "R = formulas.reflectivity(n)\n",
    "\n",
    "\n",
    "OSCILLOSCOPE_TIME_ERROR = 0.0001e-3\n",
    "OSCILLOSCOPE_VOLTAGE_PCT_ERROR = 0.03"
   ]
  },
  {
   "cell_type": "code",
   "execution_count": 54,
   "metadata": {},
   "outputs": [
    {
     "data": {
      "text/plain": [
       "(0.8536276945594825+/-2.6026704457596055e-07, 43122.77+/-0.01, 50517.07+/-0.01)"
      ]
     },
     "execution_count": 54,
     "metadata": {},
     "output_type": "execute_result"
    }
   ],
   "source": [
    "# measured Transimission\n",
    "\n",
    "I = get_apl_ufloat(43122.77)\n",
    "I0 = get_apl_ufloat(50517.07)\n",
    "I/I0, I, I0"
   ]
  },
  {
   "cell_type": "code",
   "execution_count": 55,
   "metadata": {},
   "outputs": [
    {
     "data": {
      "text/plain": [
       "0.07727195714788411"
      ]
     },
     "execution_count": 55,
     "metadata": {},
     "output_type": "execute_result"
    }
   ],
   "source": [
    "R"
   ]
  },
  {
   "cell_type": "code",
   "execution_count": 56,
   "metadata": {},
   "outputs": [],
   "source": [
    "T = (1-R)**2"
   ]
  },
  {
   "cell_type": "code",
   "execution_count": 57,
   "metadata": {},
   "outputs": [
    {
     "data": {
      "text/plain": [
       "0.8514270410656961"
      ]
     },
     "execution_count": 57,
     "metadata": {},
     "output_type": "execute_result"
    }
   ],
   "source": [
    "T"
   ]
  },
  {
   "cell_type": "code",
   "execution_count": 60,
   "metadata": {},
   "outputs": [
    {
     "data": {
      "text/html": [
       "<div>\n",
       "<style scoped>\n",
       "    .dataframe tbody tr th:only-of-type {\n",
       "        vertical-align: middle;\n",
       "    }\n",
       "\n",
       "    .dataframe tbody tr th {\n",
       "        vertical-align: top;\n",
       "    }\n",
       "\n",
       "    .dataframe thead th {\n",
       "        text-align: right;\n",
       "    }\n",
       "</style>\n",
       "<table border=\"1\" class=\"dataframe\">\n",
       "  <thead>\n",
       "    <tr style=\"text-align: right;\">\n",
       "      <th></th>\n",
       "      <th>Wavelength</th>\n",
       "      <th>Ruby Intensity</th>\n",
       "      <th>Wavelength(nm)</th>\n",
       "      <th>No Ruby Intensity</th>\n",
       "      <th>Transmission</th>\n",
       "      <th>Intensity_measurement_error</th>\n",
       "    </tr>\n",
       "  </thead>\n",
       "  <tbody>\n",
       "    <tr>\n",
       "      <th>0</th>\n",
       "      <td>345.532</td>\n",
       "      <td>-25.20</td>\n",
       "      <td>345.532</td>\n",
       "      <td>-3.58</td>\n",
       "      <td>7.039106</td>\n",
       "      <td>0.01</td>\n",
       "    </tr>\n",
       "    <tr>\n",
       "      <th>1</th>\n",
       "      <td>345.749</td>\n",
       "      <td>-25.20</td>\n",
       "      <td>345.749</td>\n",
       "      <td>-3.58</td>\n",
       "      <td>7.039106</td>\n",
       "      <td>0.01</td>\n",
       "    </tr>\n",
       "    <tr>\n",
       "      <th>2</th>\n",
       "      <td>345.966</td>\n",
       "      <td>-25.20</td>\n",
       "      <td>345.966</td>\n",
       "      <td>-3.58</td>\n",
       "      <td>7.039106</td>\n",
       "      <td>0.01</td>\n",
       "    </tr>\n",
       "    <tr>\n",
       "      <th>3</th>\n",
       "      <td>346.184</td>\n",
       "      <td>-2.67</td>\n",
       "      <td>346.184</td>\n",
       "      <td>-3.58</td>\n",
       "      <td>0.745810</td>\n",
       "      <td>0.01</td>\n",
       "    </tr>\n",
       "    <tr>\n",
       "      <th>4</th>\n",
       "      <td>346.401</td>\n",
       "      <td>-12.91</td>\n",
       "      <td>346.401</td>\n",
       "      <td>-52.05</td>\n",
       "      <td>0.248031</td>\n",
       "      <td>0.01</td>\n",
       "    </tr>\n",
       "  </tbody>\n",
       "</table>\n",
       "</div>"
      ],
      "text/plain": [
       "   Wavelength  Ruby Intensity  Wavelength(nm)  No Ruby Intensity  \\\n",
       "0     345.532          -25.20         345.532              -3.58   \n",
       "1     345.749          -25.20         345.749              -3.58   \n",
       "2     345.966          -25.20         345.966              -3.58   \n",
       "3     346.184           -2.67         346.184              -3.58   \n",
       "4     346.401          -12.91         346.401             -52.05   \n",
       "\n",
       "   Transmission  Intensity_measurement_error  \n",
       "0      7.039106                         0.01  \n",
       "1      7.039106                         0.01  \n",
       "2      7.039106                         0.01  \n",
       "3      0.745810                         0.01  \n",
       "4      0.248031                         0.01  "
      ]
     },
     "execution_count": 60,
     "metadata": {},
     "output_type": "execute_result"
    }
   ],
   "source": [
    "import pandas as pd\n",
    "ruby_data = pd.read_csv(\"data/Ruby/ruby_data.csv\")\n",
    "\n",
    "ruby_data = ruby_data.dropna(axis =1 ,how = \"all\")\n",
    "\n",
    "\n",
    "\n",
    "ruby_data.head()"
   ]
  },
  {
   "cell_type": "code",
   "execution_count": 61,
   "metadata": {},
   "outputs": [],
   "source": [
    "ruby_data[\"Intensity_measurement_error\"] = 0.01"
   ]
  },
  {
   "cell_type": "code",
   "execution_count": 62,
   "metadata": {},
   "outputs": [
    {
     "data": {
      "text/html": [
       "<div>\n",
       "<style scoped>\n",
       "    .dataframe tbody tr th:only-of-type {\n",
       "        vertical-align: middle;\n",
       "    }\n",
       "\n",
       "    .dataframe tbody tr th {\n",
       "        vertical-align: top;\n",
       "    }\n",
       "\n",
       "    .dataframe thead th {\n",
       "        text-align: right;\n",
       "    }\n",
       "</style>\n",
       "<table border=\"1\" class=\"dataframe\">\n",
       "  <thead>\n",
       "    <tr style=\"text-align: right;\">\n",
       "      <th></th>\n",
       "      <th>Wavelength</th>\n",
       "      <th>Ruby Intensity</th>\n",
       "      <th>Wavelength(nm)</th>\n",
       "      <th>No Ruby Intensity</th>\n",
       "      <th>Transmission</th>\n",
       "      <th>Intensity_measurement_error</th>\n",
       "      <th>Transmission_error</th>\n",
       "    </tr>\n",
       "  </thead>\n",
       "  <tbody>\n",
       "    <tr>\n",
       "      <th>0</th>\n",
       "      <td>345.532</td>\n",
       "      <td>-25.20</td>\n",
       "      <td>345.532</td>\n",
       "      <td>-3.58</td>\n",
       "      <td>7.039106</td>\n",
       "      <td>0.01</td>\n",
       "      <td>7.039+/-0.020</td>\n",
       "    </tr>\n",
       "    <tr>\n",
       "      <th>1</th>\n",
       "      <td>345.749</td>\n",
       "      <td>-25.20</td>\n",
       "      <td>345.749</td>\n",
       "      <td>-3.58</td>\n",
       "      <td>7.039106</td>\n",
       "      <td>0.01</td>\n",
       "      <td>7.039+/-0.020</td>\n",
       "    </tr>\n",
       "    <tr>\n",
       "      <th>2</th>\n",
       "      <td>345.966</td>\n",
       "      <td>-25.20</td>\n",
       "      <td>345.966</td>\n",
       "      <td>-3.58</td>\n",
       "      <td>7.039106</td>\n",
       "      <td>0.01</td>\n",
       "      <td>7.039+/-0.020</td>\n",
       "    </tr>\n",
       "    <tr>\n",
       "      <th>3</th>\n",
       "      <td>346.184</td>\n",
       "      <td>-2.67</td>\n",
       "      <td>346.184</td>\n",
       "      <td>-3.58</td>\n",
       "      <td>0.745810</td>\n",
       "      <td>0.01</td>\n",
       "      <td>0.7458+/-0.0035</td>\n",
       "    </tr>\n",
       "    <tr>\n",
       "      <th>4</th>\n",
       "      <td>346.401</td>\n",
       "      <td>-12.91</td>\n",
       "      <td>346.401</td>\n",
       "      <td>-52.05</td>\n",
       "      <td>0.248031</td>\n",
       "      <td>0.01</td>\n",
       "      <td>0.24803+/-0.00020</td>\n",
       "    </tr>\n",
       "  </tbody>\n",
       "</table>\n",
       "</div>"
      ],
      "text/plain": [
       "   Wavelength  Ruby Intensity  Wavelength(nm)  No Ruby Intensity  \\\n",
       "0     345.532          -25.20         345.532              -3.58   \n",
       "1     345.749          -25.20         345.749              -3.58   \n",
       "2     345.966          -25.20         345.966              -3.58   \n",
       "3     346.184           -2.67         346.184              -3.58   \n",
       "4     346.401          -12.91         346.401             -52.05   \n",
       "\n",
       "   Transmission  Intensity_measurement_error Transmission_error  \n",
       "0      7.039106                         0.01      7.039+/-0.020  \n",
       "1      7.039106                         0.01      7.039+/-0.020  \n",
       "2      7.039106                         0.01      7.039+/-0.020  \n",
       "3      0.745810                         0.01    0.7458+/-0.0035  \n",
       "4      0.248031                         0.01  0.24803+/-0.00020  "
      ]
     },
     "execution_count": 62,
     "metadata": {},
     "output_type": "execute_result"
    }
   ],
   "source": [
    "from uncertainties import unumpy as unp\n",
    "\n",
    "\n",
    "ruby_intensity = unp.uarray(list(ruby_data[\"Ruby Intensity\"]),list(ruby_data[\"Intensity_measurement_error\"]))\n",
    "no_ruby_intensity = unp.uarray(list(ruby_data[\"No Ruby Intensity\"]),list(ruby_data[\"Intensity_measurement_error\"]))\n",
    "ruby_data[\"Transmission_error\"] = ruby_intensity/no_ruby_intensity\n",
    "\n",
    "ruby_data.head()\n",
    "\n",
    "\n"
   ]
  },
  {
   "cell_type": "code",
   "execution_count": 63,
   "metadata": {},
   "outputs": [
    {
     "name": "stdout",
     "output_type": "stream",
     "text": [
      "The autoreload extension is already loaded. To reload it, use:\n",
      "  %reload_ext autoreload\n",
      "0.484428+/-0.000008 1.08565+/-0.00007\n"
     ]
    }
   ],
   "source": [
    "%load_ext autoreload\n",
    "%autoreload 2\n",
    "L = ufloat(2e-3, 0.05e-3)\n",
    "def abs_coeff_ruby(T):\n",
    "\n",
    "    return formulas.absorption_coefficent(T = T, R = R, L = L)\n",
    "\n",
    "\n",
    "CUTOFF = 370\n",
    "ruby_data = ruby_data[ruby_data[\"Wavelength\"] >= CUTOFF]\n",
    "\n",
    "print(min(ruby_data[\"Transmission_error\"]), max(ruby_data[\"Transmission_error\"]))\n",
    "\n",
    "ruby_data[\"Absorption_Coefficient_error\"] = ruby_data[\"Transmission_error\"].apply(abs_coeff_ruby)\n",
    "ruby_data[\"Absorption_Coeff\"] = ruby_data[\"Absorption_Coefficient_error\"].apply(lambda x: x.n)"
   ]
  },
  {
   "cell_type": "code",
   "execution_count": 64,
   "metadata": {},
   "outputs": [],
   "source": [
    "ruby_data.to_csv(SAVE_PATH,index = None)"
   ]
  },
  {
   "cell_type": "code",
   "execution_count": 65,
   "metadata": {},
   "outputs": [
    {
     "data": {
      "text/html": [
       "<div>\n",
       "<style scoped>\n",
       "    .dataframe tbody tr th:only-of-type {\n",
       "        vertical-align: middle;\n",
       "    }\n",
       "\n",
       "    .dataframe tbody tr th {\n",
       "        vertical-align: top;\n",
       "    }\n",
       "\n",
       "    .dataframe thead th {\n",
       "        text-align: right;\n",
       "    }\n",
       "</style>\n",
       "<table border=\"1\" class=\"dataframe\">\n",
       "  <thead>\n",
       "    <tr style=\"text-align: right;\">\n",
       "      <th></th>\n",
       "      <th>Wavelength</th>\n",
       "      <th>Ruby Intensity</th>\n",
       "      <th>Wavelength(nm)</th>\n",
       "      <th>No Ruby Intensity</th>\n",
       "      <th>Transmission</th>\n",
       "      <th>Intensity_measurement_error</th>\n",
       "      <th>Transmission_error</th>\n",
       "      <th>Absorption_Coefficient_error</th>\n",
       "      <th>Absorption_Coeff</th>\n",
       "    </tr>\n",
       "  </thead>\n",
       "  <tbody>\n",
       "    <tr>\n",
       "      <th>113</th>\n",
       "      <td>370.018</td>\n",
       "      <td>195.30</td>\n",
       "      <td>370.018</td>\n",
       "      <td>226.47</td>\n",
       "      <td>0.862366</td>\n",
       "      <td>0.01</td>\n",
       "      <td>0.86237+/-0.00006</td>\n",
       "      <td>-6.38+/-0.16</td>\n",
       "      <td>-6.382909</td>\n",
       "    </tr>\n",
       "    <tr>\n",
       "      <th>114</th>\n",
       "      <td>370.234</td>\n",
       "      <td>185.74</td>\n",
       "      <td>370.234</td>\n",
       "      <td>240.81</td>\n",
       "      <td>0.771313</td>\n",
       "      <td>0.01</td>\n",
       "      <td>0.77131+/-0.00005</td>\n",
       "      <td>49.4+/-1.2</td>\n",
       "      <td>49.409465</td>\n",
       "    </tr>\n",
       "    <tr>\n",
       "      <th>115</th>\n",
       "      <td>370.450</td>\n",
       "      <td>174.82</td>\n",
       "      <td>370.450</td>\n",
       "      <td>265.38</td>\n",
       "      <td>0.658753</td>\n",
       "      <td>0.01</td>\n",
       "      <td>0.65875+/-0.00005</td>\n",
       "      <td>128.3+/-3.2</td>\n",
       "      <td>128.282211</td>\n",
       "    </tr>\n",
       "    <tr>\n",
       "      <th>116</th>\n",
       "      <td>370.666</td>\n",
       "      <td>197.34</td>\n",
       "      <td>370.666</td>\n",
       "      <td>258.56</td>\n",
       "      <td>0.763227</td>\n",
       "      <td>0.01</td>\n",
       "      <td>0.76323+/-0.00005</td>\n",
       "      <td>54.7+/-1.4</td>\n",
       "      <td>54.679090</td>\n",
       "    </tr>\n",
       "    <tr>\n",
       "      <th>117</th>\n",
       "      <td>370.882</td>\n",
       "      <td>176.86</td>\n",
       "      <td>370.882</td>\n",
       "      <td>247.63</td>\n",
       "      <td>0.714211</td>\n",
       "      <td>0.01</td>\n",
       "      <td>0.71421+/-0.00005</td>\n",
       "      <td>87.9+/-2.2</td>\n",
       "      <td>87.867886</td>\n",
       "    </tr>\n",
       "  </tbody>\n",
       "</table>\n",
       "</div>"
      ],
      "text/plain": [
       "     Wavelength  Ruby Intensity  Wavelength(nm)  No Ruby Intensity  \\\n",
       "113     370.018          195.30         370.018             226.47   \n",
       "114     370.234          185.74         370.234             240.81   \n",
       "115     370.450          174.82         370.450             265.38   \n",
       "116     370.666          197.34         370.666             258.56   \n",
       "117     370.882          176.86         370.882             247.63   \n",
       "\n",
       "     Transmission  Intensity_measurement_error Transmission_error  \\\n",
       "113      0.862366                         0.01  0.86237+/-0.00006   \n",
       "114      0.771313                         0.01  0.77131+/-0.00005   \n",
       "115      0.658753                         0.01  0.65875+/-0.00005   \n",
       "116      0.763227                         0.01  0.76323+/-0.00005   \n",
       "117      0.714211                         0.01  0.71421+/-0.00005   \n",
       "\n",
       "    Absorption_Coefficient_error  Absorption_Coeff  \n",
       "113                 -6.38+/-0.16         -6.382909  \n",
       "114                   49.4+/-1.2         49.409465  \n",
       "115                  128.3+/-3.2        128.282211  \n",
       "116                   54.7+/-1.4         54.679090  \n",
       "117                   87.9+/-2.2         87.867886  "
      ]
     },
     "execution_count": 65,
     "metadata": {},
     "output_type": "execute_result"
    }
   ],
   "source": [
    "ruby_data.head()"
   ]
  },
  {
   "cell_type": "code",
   "execution_count": 66,
   "metadata": {},
   "outputs": [
    {
     "data": {
      "text/plain": [
       "281.9729374708541+/-7.049328239062466"
      ]
     },
     "execution_count": 66,
     "metadata": {},
     "output_type": "execute_result"
    }
   ],
   "source": [
    "absorption_maxima = max(ruby_data['Absorption_Coefficient_error'])\n",
    "absorption_maxima"
   ]
  },
  {
   "cell_type": "code",
   "execution_count": 85,
   "metadata": {},
   "outputs": [
    {
     "data": {
      "text/plain": [
       "(0.0035464396298788927+/-8.866105114651161e-05,\n",
       " 3.546439629878893+/-0.08866105114651159)"
      ]
     },
     "execution_count": 85,
     "metadata": {},
     "output_type": "execute_result"
    }
   ],
   "source": [
    "1/absorption_maxima, 1000*1/absorption_maxima"
   ]
  },
  {
   "cell_type": "code",
   "execution_count": 68,
   "metadata": {},
   "outputs": [],
   "source": [
    "maxima2 = ruby_data[(ruby_data[\"Absorption_Coeff\"] > 128.654) & (ruby_data[\"Absorption_Coeff\"] < 128.655)]"
   ]
  },
  {
   "cell_type": "code",
   "execution_count": 69,
   "metadata": {},
   "outputs": [
    {
     "data": {
      "text/plain": [
       "(128.65459984347157+/-3.2163650035742855, 128.65459984347157)"
      ]
     },
     "execution_count": 69,
     "metadata": {},
     "output_type": "execute_result"
    }
   ],
   "source": [
    "maxima2[\"Absorption_Coefficient_error\"].iloc[0],maxima2[\"Absorption_Coefficient_error\"].iloc[0].n"
   ]
  },
  {
   "cell_type": "code",
   "execution_count": 70,
   "metadata": {},
   "outputs": [
    {
     "data": {
      "text/plain": [
       "3.2163650035742855"
      ]
     },
     "execution_count": 70,
     "metadata": {},
     "output_type": "execute_result"
    }
   ],
   "source": [
    "maxima2[\"Absorption_Coefficient_error\"].iloc[0].std_dev"
   ]
  },
  {
   "cell_type": "code",
   "execution_count": 71,
   "metadata": {},
   "outputs": [
    {
     "data": {
      "text/plain": [
       "0.007772749681835366+/-0.00019431874249824596"
      ]
     },
     "execution_count": 71,
     "metadata": {},
     "output_type": "execute_result"
    }
   ],
   "source": [
    "1/maxima2[\"Absorption_Coefficient_error\"].iloc[0]"
   ]
  },
  {
   "cell_type": "code",
   "execution_count": 72,
   "metadata": {},
   "outputs": [
    {
     "data": {
      "text/plain": [
       "1006    557.954\n",
       "Name: Wavelength, dtype: float64"
      ]
     },
     "execution_count": 72,
     "metadata": {},
     "output_type": "execute_result"
    }
   ],
   "source": [
    "maxima2[\"Wavelength\"]"
   ]
  },
  {
   "cell_type": "code",
   "execution_count": 73,
   "metadata": {},
   "outputs": [],
   "source": [
    "from util import get_apl_ufloat\n",
    "\n",
    "t2 = ufloat(0.008999999613, OSCILLOSCOPE_TIME_ERROR)\n",
    "t1 = ufloat(0.0000399996643, OSCILLOSCOPE_TIME_ERROR)"
   ]
  },
  {
   "cell_type": "code",
   "execution_count": 74,
   "metadata": {},
   "outputs": [
    {
     "data": {
      "text/plain": [
       "0.0089599999487+/-1.414213562373095e-07"
      ]
     },
     "execution_count": 74,
     "metadata": {},
     "output_type": "execute_result"
    }
   ],
   "source": [
    "t2-t1"
   ]
  },
  {
   "cell_type": "code",
   "execution_count": 75,
   "metadata": {},
   "outputs": [
    {
     "data": {
      "text/plain": [
       "(2.3287297799988727+/-4.3750911755290976e-05,\n",
       " 2.9890110685090066+/-7.207820464706181e-05,\n",
       " 1.7863017528487575+/-2.574296479529092e-06)"
      ]
     },
     "execution_count": 75,
     "metadata": {},
     "output_type": "execute_result"
    }
   ],
   "source": [
    "λ_green = get_apl_ufloat(532.270)\n",
    "λ_abs_peak = get_apl_ufloat(414.690)\n",
    "λ_ruby_red = get_apl_ufloat(693.899)\n",
    "\n",
    "E_green = formulas.get_photon_energy_nm(λ_green)\n",
    "E_abs_peak = formulas.get_photon_energy_nm(λ_abs_peak)\n",
    "E_ruby_red = formulas.get_photon_energy_nm(λ_ruby_red)\n",
    "\n",
    "E_green, E_abs_peak, E_ruby_red"
   ]
  },
  {
   "cell_type": "code",
   "execution_count": 76,
   "metadata": {},
   "outputs": [
    {
     "data": {
      "text/plain": [
       "2.0+/-0.022360679774997897"
      ]
     },
     "execution_count": 76,
     "metadata": {},
     "output_type": "execute_result"
    }
   ],
   "source": [
    "ufloat(200,1)/ ufloat(100, 1)\n"
   ]
  },
  {
   "cell_type": "code",
   "execution_count": 77,
   "metadata": {},
   "outputs": [
    {
     "data": {
      "text/plain": [
       "0.022360679774997897"
      ]
     },
     "execution_count": 77,
     "metadata": {},
     "output_type": "execute_result"
    }
   ],
   "source": [
    "(((1/200)**2 + (1/100)**2)**0.5) * 2"
   ]
  },
  {
   "cell_type": "code",
   "execution_count": 78,
   "metadata": {},
   "outputs": [
    {
     "data": {
      "text/plain": [
       "'0.258466+/-0.000031%'"
      ]
     },
     "execution_count": 78,
     "metadata": {},
     "output_type": "execute_result"
    }
   ],
   "source": [
    "formulas.pct_deviation(measured =I/I0, accepted = T)"
   ]
  },
  {
   "cell_type": "code",
   "execution_count": 79,
   "metadata": {},
   "outputs": [
    {
     "data": {
      "text/plain": [
       "'8455.367437593979'"
      ]
     },
     "execution_count": 79,
     "metadata": {},
     "output_type": "execute_result"
    }
   ],
   "source": [
    "formulas.deviation(measured =I/I0, accepted = T)"
   ]
  },
  {
   "cell_type": "code",
   "execution_count": 80,
   "metadata": {},
   "outputs": [
    {
     "data": {
      "text/plain": [
       "('0.05776+/-0.00014%', '400.9999999999536')"
      ]
     },
     "execution_count": 80,
     "metadata": {},
     "output_type": "execute_result"
    }
   ],
   "source": [
    "formulas.get_deviations(measured =λ_ruby_red, accepted = 694.3)"
   ]
  },
  {
   "attachments": {},
   "cell_type": "markdown",
   "metadata": {},
   "source": [
    "CALCULATE ERROR IN FLUORESCENEC LIFETIME USING SUBSTITUE VALUES FOR V(t) and t. Necessary because we are using exponetntail decay parameter from excel, so exact values used in calculation are not known.\n",
    "\n",
    "See lab report for formulas used in calcaulation."
   ]
  },
  {
   "cell_type": "code",
   "execution_count": 81,
   "metadata": {},
   "outputs": [
    {
     "data": {
      "text/plain": [
       "0.36787944117144233+/-0.01175949956047502"
      ]
     },
     "execution_count": 81,
     "metadata": {},
     "output_type": "execute_result"
    }
   ],
   "source": [
    "import math\n",
    "vt_v0 = ufloat(1,OSCILLOSCOPE_VOLTAGE_PCT_ERROR)/ufloat(math.e,OSCILLOSCOPE_VOLTAGE_PCT_ERROR)\n",
    "\n",
    "vt_v0\n",
    "t =ufloat(1/282.1, OSCILLOSCOPE_TIME_ERROR)"
   ]
  },
  {
   "cell_type": "code",
   "execution_count": 82,
   "metadata": {},
   "outputs": [
    {
     "data": {
      "text/plain": [
       "282.1+/-9.017508853619649"
      ]
     },
     "execution_count": 82,
     "metadata": {},
     "output_type": "execute_result"
    }
   ],
   "source": [
    "k = -unp.log(vt_v0)/t\n",
    "k # aggrees with excel parameter"
   ]
  },
  {
   "cell_type": "code",
   "execution_count": 83,
   "metadata": {},
   "outputs": [
    {
     "data": {
      "text/plain": [
       "(0.0035448422545196734+/-0.00011331317410427575,\n",
       " ('1.3+/-3.2%', '0.3957373436420337'))"
      ]
     },
     "execution_count": 83,
     "metadata": {},
     "output_type": "execute_result"
    }
   ],
   "source": [
    "ed = 1/k\n",
    "accepted_ed = 0.0035\n",
    "\n",
    "ed,formulas.get_deviations(measured =ed, accepted = accepted_ed)"
   ]
  },
  {
   "cell_type": "code",
   "execution_count": 84,
   "metadata": {},
   "outputs": [
    {
     "data": {
      "text/plain": [
       "3.5448422545196734+/-0.11331317410427573"
      ]
     },
     "execution_count": 84,
     "metadata": {},
     "output_type": "execute_result"
    }
   ],
   "source": [
    "ed*1000"
   ]
  },
  {
   "cell_type": "code",
   "execution_count": null,
   "metadata": {},
   "outputs": [],
   "source": []
  }
 ],
 "metadata": {
  "kernelspec": {
   "display_name": "Python 3",
   "language": "python",
   "name": "python3"
  },
  "language_info": {
   "codemirror_mode": {
    "name": "ipython",
    "version": 3
   },
   "file_extension": ".py",
   "mimetype": "text/x-python",
   "name": "python",
   "nbconvert_exporter": "python",
   "pygments_lexer": "ipython3",
   "version": "3.9.13"
  },
  "orig_nbformat": 4,
  "vscode": {
   "interpreter": {
    "hash": "38cca0c38332a56087b24af0bc80247f4fced29cb4f7f437d91dc159adec9c4e"
   }
  }
 },
 "nbformat": 4,
 "nbformat_minor": 2
}
