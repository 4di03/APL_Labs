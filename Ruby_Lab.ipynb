{
 "cells": [
  {
   "cell_type": "code",
   "execution_count": 28,
   "metadata": {},
   "outputs": [],
   "source": [
    "#B.2.a\n",
    "from uncertainties import ufloat\n",
    "import formulas\n",
    "SAVE_PATH = \"data/Ruby/ruby_data_new.csv\"\n",
    "n = 1.77\n",
    "\n",
    "R = formulas.reflectivity(n)"
   ]
  },
  {
   "cell_type": "code",
   "execution_count": 29,
   "metadata": {},
   "outputs": [
    {
     "data": {
      "text/plain": [
       "0.07727195714788411"
      ]
     },
     "execution_count": 29,
     "metadata": {},
     "output_type": "execute_result"
    }
   ],
   "source": [
    "R"
   ]
  },
  {
   "cell_type": "code",
   "execution_count": 30,
   "metadata": {},
   "outputs": [],
   "source": [
    "T = (1-R)**2"
   ]
  },
  {
   "cell_type": "code",
   "execution_count": 31,
   "metadata": {},
   "outputs": [
    {
     "data": {
      "text/plain": [
       "0.8514270410656961"
      ]
     },
     "execution_count": 31,
     "metadata": {},
     "output_type": "execute_result"
    }
   ],
   "source": [
    "T"
   ]
  },
  {
   "cell_type": "code",
   "execution_count": 32,
   "metadata": {},
   "outputs": [],
   "source": [
    "T_error_ratio = ufloat(1,0.001)/ufloat(1,0.001)"
   ]
  },
  {
   "cell_type": "code",
   "execution_count": 33,
   "metadata": {},
   "outputs": [
    {
     "data": {
      "text/plain": [
       "1.0+/-0.001414213562373095"
      ]
     },
     "execution_count": 33,
     "metadata": {},
     "output_type": "execute_result"
    }
   ],
   "source": [
    "T_error_ratio"
   ]
  },
  {
   "cell_type": "code",
   "execution_count": 34,
   "metadata": {},
   "outputs": [
    {
     "data": {
      "text/html": [
       "<div>\n",
       "<style scoped>\n",
       "    .dataframe tbody tr th:only-of-type {\n",
       "        vertical-align: middle;\n",
       "    }\n",
       "\n",
       "    .dataframe tbody tr th {\n",
       "        vertical-align: top;\n",
       "    }\n",
       "\n",
       "    .dataframe thead th {\n",
       "        text-align: right;\n",
       "    }\n",
       "</style>\n",
       "<table border=\"1\" class=\"dataframe\">\n",
       "  <thead>\n",
       "    <tr style=\"text-align: right;\">\n",
       "      <th></th>\n",
       "      <th>Unnamed: 0.1</th>\n",
       "      <th>Unnamed: 0</th>\n",
       "      <th>Wavelength</th>\n",
       "      <th>Ruby Intensity</th>\n",
       "      <th>Wavelength(nm)</th>\n",
       "      <th>No Ruby Intensity</th>\n",
       "      <th>Transmission</th>\n",
       "      <th>Intensity_measurement_error</th>\n",
       "      <th>Transmission_error</th>\n",
       "    </tr>\n",
       "  </thead>\n",
       "  <tbody>\n",
       "    <tr>\n",
       "      <th>0</th>\n",
       "      <td>0</td>\n",
       "      <td>0</td>\n",
       "      <td>363.262</td>\n",
       "      <td>-25.20</td>\n",
       "      <td>363.262</td>\n",
       "      <td>-3.58</td>\n",
       "      <td>7.039106</td>\n",
       "      <td>0.01</td>\n",
       "      <td>7.039+/-0.020</td>\n",
       "    </tr>\n",
       "    <tr>\n",
       "      <th>1</th>\n",
       "      <td>1</td>\n",
       "      <td>1</td>\n",
       "      <td>363.479</td>\n",
       "      <td>-25.20</td>\n",
       "      <td>363.479</td>\n",
       "      <td>-3.58</td>\n",
       "      <td>7.039106</td>\n",
       "      <td>0.01</td>\n",
       "      <td>7.039+/-0.020</td>\n",
       "    </tr>\n",
       "    <tr>\n",
       "      <th>2</th>\n",
       "      <td>2</td>\n",
       "      <td>2</td>\n",
       "      <td>363.696</td>\n",
       "      <td>-25.20</td>\n",
       "      <td>363.696</td>\n",
       "      <td>-3.58</td>\n",
       "      <td>7.039106</td>\n",
       "      <td>0.01</td>\n",
       "      <td>7.039+/-0.020</td>\n",
       "    </tr>\n",
       "    <tr>\n",
       "      <th>3</th>\n",
       "      <td>3</td>\n",
       "      <td>3</td>\n",
       "      <td>363.914</td>\n",
       "      <td>-2.67</td>\n",
       "      <td>363.914</td>\n",
       "      <td>-3.58</td>\n",
       "      <td>0.745810</td>\n",
       "      <td>0.01</td>\n",
       "      <td>0.7458+/-0.0035</td>\n",
       "    </tr>\n",
       "    <tr>\n",
       "      <th>4</th>\n",
       "      <td>4</td>\n",
       "      <td>4</td>\n",
       "      <td>364.131</td>\n",
       "      <td>-12.91</td>\n",
       "      <td>364.131</td>\n",
       "      <td>-52.05</td>\n",
       "      <td>0.248031</td>\n",
       "      <td>0.01</td>\n",
       "      <td>0.24803+/-0.00020</td>\n",
       "    </tr>\n",
       "  </tbody>\n",
       "</table>\n",
       "</div>"
      ],
      "text/plain": [
       "   Unnamed: 0.1  Unnamed: 0  Wavelength  Ruby Intensity  Wavelength(nm)  \\\n",
       "0             0           0     363.262          -25.20         363.262   \n",
       "1             1           1     363.479          -25.20         363.479   \n",
       "2             2           2     363.696          -25.20         363.696   \n",
       "3             3           3     363.914           -2.67         363.914   \n",
       "4             4           4     364.131          -12.91         364.131   \n",
       "\n",
       "   No Ruby Intensity  Transmission  Intensity_measurement_error  \\\n",
       "0              -3.58      7.039106                         0.01   \n",
       "1              -3.58      7.039106                         0.01   \n",
       "2              -3.58      7.039106                         0.01   \n",
       "3              -3.58      0.745810                         0.01   \n",
       "4             -52.05      0.248031                         0.01   \n",
       "\n",
       "  Transmission_error  \n",
       "0      7.039+/-0.020  \n",
       "1      7.039+/-0.020  \n",
       "2      7.039+/-0.020  \n",
       "3    0.7458+/-0.0035  \n",
       "4  0.24803+/-0.00020  "
      ]
     },
     "execution_count": 34,
     "metadata": {},
     "output_type": "execute_result"
    }
   ],
   "source": [
    "import pandas as pd\n",
    "ruby_data = pd.read_csv(\"data/Ruby/ruby_data.csv\")\n",
    "\n",
    "ruby_data = ruby_data.dropna(axis =1 ,how = \"all\")\n",
    "\n",
    "\n",
    "\n",
    "ruby_data.head()"
   ]
  },
  {
   "cell_type": "code",
   "execution_count": 35,
   "metadata": {},
   "outputs": [],
   "source": [
    "ruby_data[\"Intensity_measurement_error\"] = 0.01"
   ]
  },
  {
   "cell_type": "code",
   "execution_count": 36,
   "metadata": {},
   "outputs": [],
   "source": [
    "from uncertainties import unumpy as unp\n",
    "\n",
    "\n",
    "ruby_intensity = unp.uarray(list(ruby_data[\"Ruby Intensity\"]),list(ruby_data[\"Intensity_measurement_error\"]))\n",
    "no_ruby_intensity = unp.uarray(list(ruby_data[\"No Ruby Intensity\"]),list(ruby_data[\"Intensity_measurement_error\"]))\n",
    "ruby_data[\"Transmission_error\"] = ruby_intensity/no_ruby_intensity\n",
    "\n",
    "ruby_data.head()\n",
    "\n",
    "\n",
    "ruby_data.to_csv(SAVE_PATH)"
   ]
  }
 ],
 "metadata": {
  "kernelspec": {
   "display_name": "Python 3",
   "language": "python",
   "name": "python3"
  },
  "language_info": {
   "codemirror_mode": {
    "name": "ipython",
    "version": 3
   },
   "file_extension": ".py",
   "mimetype": "text/x-python",
   "name": "python",
   "nbconvert_exporter": "python",
   "pygments_lexer": "ipython3",
   "version": "3.9.13"
  },
  "orig_nbformat": 4,
  "vscode": {
   "interpreter": {
    "hash": "38cca0c38332a56087b24af0bc80247f4fced29cb4f7f437d91dc159adec9c4e"
   }
  }
 },
 "nbformat": 4,
 "nbformat_minor": 2
}
